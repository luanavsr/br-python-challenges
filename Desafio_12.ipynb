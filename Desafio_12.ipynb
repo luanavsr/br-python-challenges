{
  "nbformat": 4,
  "nbformat_minor": 0,
  "metadata": {
    "anaconda-cloud": {},
    "kernelspec": {
      "display_name": "Python 3",
      "language": "python",
      "name": "python3"
    },
    "language_info": {
      "codemirror_mode": {
        "name": "ipython",
        "version": 3
      },
      "file_extension": ".py",
      "mimetype": "text/x-python",
      "name": "python",
      "nbconvert_exporter": "python",
      "pygments_lexer": "ipython3",
      "version": "3.6.5"
    },
    "colab": {
      "name": "Desafio 12.ipynb",
      "provenance": [],
      "include_colab_link": true
    }
  },
  "cells": [
    {
      "cell_type": "markdown",
      "metadata": {
        "id": "view-in-github",
        "colab_type": "text"
      },
      "source": [
        "<a href=\"https://colab.research.google.com/github/luanavsr/br-python-challenges/blob/master/Desafio_12.ipynb\" target=\"_parent\"><img src=\"https://colab.research.google.com/assets/colab-badge.svg\" alt=\"Open In Colab\"/></a>"
      ]
    },
    {
      "cell_type": "markdown",
      "metadata": {
        "id": "AYHY2YXQf6J2",
        "colab_type": "text"
      },
      "source": [
        "### Desafio 12\n",
        "\n",
        "Escreva uma função em Python para verificar a validade de uma senha.\n",
        "\n",
        "Validação:\n",
        "\n",
        "* Pelo menos 1 letra entre [a-z] e 1 letra entre [A-Z].\n",
        "* Pelo menos 1 número entre [0-9].\n",
        "* Pelo menos 1 caractere de [$ # @].\n",
        "* Comprimento mínimo de 6 caracteres.\n",
        "* Comprimento máximo de 16 caracteres.\n",
        "\n",
        "Entradas: \"12345678\", \"J3sus0\", \"#Te5t300\", \"J*90j12374\", \"Michheeul\", \"Monk3y6\"\n",
        "\n",
        "A saída deve ser a senha e um texto indicando se a senha é válida ou inválida:\n",
        "\n",
        "```\n",
        "\"1234\" - Senha inválida\n",
        "\"Qw#1234\" - Senha válida\n",
        "```"
      ]
    },
    {
      "cell_type": "code",
      "metadata": {
        "id": "UGgtGYGGf6J3",
        "colab_type": "code",
        "colab": {}
      },
      "source": [
        "from string import punctuation\n"
      ],
      "execution_count": 1,
      "outputs": []
    },
    {
      "cell_type": "code",
      "metadata": {
        "id": "n8F01NzD9uHm",
        "colab_type": "code",
        "colab": {}
      },
      "source": [
        "lista_especial = list(punctuation)"
      ],
      "execution_count": 2,
      "outputs": []
    },
    {
      "cell_type": "code",
      "metadata": {
        "id": "S1nCOL95OFIY",
        "colab_type": "code",
        "colab": {}
      },
      "source": [
        "def senha_conferida (senha):\n",
        "     len_6 = False\n",
        "     if len(senha) >= 6:\n",
        "        len_6 = True\n",
        "     len_16 = False\n",
        "     if len(senha) <= 16:\n",
        "        len_16 = True\n",
        "     \n",
        "     check_number = False\n",
        "     check_number = False\n",
        "     lower_case = False\n",
        "     upper_case = False\n",
        "     special_char = False\n",
        "     for i in senha:\n",
        "         if i.isdigit():\n",
        "             check_number = True\n",
        "         if i.islower():\n",
        "             lower_case = True\n",
        "         if i.isupper():\n",
        "             upper_case = True\n",
        "         if i in lista_especial:\n",
        "             special_char = True\n",
        "\n",
        "     if not (check_number & len_16 & len_6 & lower_case & upper_case & special_char):\n",
        "        status_senha = 'Senha inválida'\n",
        "     else:\n",
        "        status_senha = 'Senha válida'\n",
        "    \n",
        "     print('Ao menos 1 caractere especial:', special_char)\n",
        "     print('Ao menos 1 letra entre [a-z]:', lower_case)\n",
        "     print('Ao menos 1 letra entre [A-Z]:', upper_case)\n",
        "     print('Ao menos 1 número entre [0-9]:', check_number)\n",
        "     print('Mínimo de 6 caracteres:', len_6)\n",
        "     print('Máximo de 16 caracteres:', len_16)\n",
        "     print('')\n",
        "     print(status_senha)"
      ],
      "execution_count": 14,
      "outputs": []
    },
    {
      "cell_type": "code",
      "metadata": {
        "id": "eKyWIHM1OUIr",
        "colab_type": "code",
        "colab": {
          "base_uri": "https://localhost:8080/",
          "height": 164
        },
        "outputId": "449da759-269e-4fa3-9f78-5beb6dae1c1b"
      },
      "source": [
        "teste = \"#34fsdagSF\"\n",
        "\n",
        "senha_conferida(teste)"
      ],
      "execution_count": 15,
      "outputs": [
        {
          "output_type": "stream",
          "text": [
            "Ao menos 1 caractere especial: True\n",
            "Ao menos 1 letra entre [a-z]: True\n",
            "Ao menos 1 letra entre [A-Z]: True\n",
            "Ao menos 1 número entre [0-9]: True\n",
            "Mínimo de 6 caracteres: True\n",
            "Máximo de 16 caracteres: True\n",
            "\n",
            "Senha válida\n"
          ],
          "name": "stdout"
        }
      ]
    }
  ]
}